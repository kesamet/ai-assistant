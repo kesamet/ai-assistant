{
 "cells": [
  {
   "cell_type": "markdown",
   "id": "613af08d-f990-4f24-a782-11fa7dc11024",
   "metadata": {},
   "source": [
    "# Extract metrics with LLM"
   ]
  },
  {
   "cell_type": "code",
   "execution_count": null,
   "id": "88885711-d578-4a4d-9b53-066b0607d1cb",
   "metadata": {},
   "outputs": [],
   "source": [
    "import fitz\n",
    "from dotenv import load_dotenv\n",
    "from loguru import logger\n",
    "from langchain_core.documents import Document\n",
    "from langchain_core.prompts import PromptTemplate\n",
    "from langchain_core.messages import HumanMessage\n",
    "from langchain_core.output_parsers import JsonOutputParser, StrOutputParser\n",
    "from langchain_core.runnables import RunnablePassthrough\n",
    "from langchain_community.document_loaders import PyPDFLoader\n",
    "from langchain_community.vectorstores import FAISS\n",
    "from langchain_google_genai import ChatGoogleGenerativeAI, GoogleGenerativeAIEmbeddings\n",
    "\n",
    "_ = load_dotenv()"
   ]
  },
  {
   "cell_type": "code",
   "execution_count": null,
   "id": "26b19619-109b-4e2e-8483-6155e04eea27",
   "metadata": {},
   "outputs": [],
   "source": [
    "LLM = ChatGoogleGenerativeAI(model=\"gemini-1.5-flash\", temperature=0.0)\n",
    "EMBEDDINGS = GoogleGenerativeAIEmbeddings(model=\"models/embedding-001\")\n",
    "\n",
    "METRICS = [\n",
    "    \"net property income\",\n",
    "    \"distribution per unit (DPU)\",\n",
    "    \"investment properties\",\n",
    "    \"total assets\",\n",
    "    \"total liabilities\",\n",
    "    \"total debts\",\n",
    "    \"total number of units\",\n",
    "    \"net asset value (NAV)\",\n",
    "    \"aggregate leverage\",\n",
    "    \"cost of debt\",\n",
    "    \"interest cover\",\n",
    "    \"average term to maturity / weighted average tenor of debt\",\n",
    "    \"weighted average lease expiry (WALE)\",\n",
    "]\n",
    "\n",
    "\n",
    "def build_content_db(pdf_filepath: str):\n",
    "    loader = PyPDFLoader(pdf_filepath)\n",
    "    pages = loader.load_and_split()\n",
    "    return FAISS.from_documents(pages, EMBEDDINGS)\n",
    "\n",
    "\n",
    "def build_tables_db(pdf_filepath):\n",
    "    table_docs = extract_tables(pdf_filepath)\n",
    "    return FAISS.from_documents(table_docs, EMBEDDINGS)\n",
    "\n",
    "\n",
    "def extract_tables(pdf_filepath: str) -> list[Document]:\n",
    "    \"\"\"Extract tables from PDF.\"\"\"\n",
    "    doc = fitz.open(pdf_filepath)\n",
    "    table_docs = list()\n",
    "    for page in doc:\n",
    "        tabs = page.find_tables()\n",
    "        logger.info(f\"[+] Found {len(tabs.tables)} table(s) on page {page.number}\")\n",
    "\n",
    "        for tab in tabs:\n",
    "            try:\n",
    "                df = tab.to_pandas()\n",
    "                if df.shape == (1, 1):\n",
    "                    logger.info(\"  [!] dataframe shape is (1, 1)\")\n",
    "                    continue\n",
    "                d = Document(\n",
    "                    page_content=df.to_json(),\n",
    "                    metadata={\"source\": pdf_filepath, \"page\": page.number},\n",
    "                )\n",
    "                table_docs.append(d)\n",
    "            except Exception:\n",
    "                logger.info(\"  [!] unable to convert to dataframe\")\n",
    "    return table_docs\n",
    "\n",
    "\n",
    "def build_chain(content_retriever, tables_retriever):\n",
    "    content_template = (\n",
    "        \"Based only on the following context, answer the question in a sentence:\\n\"\n",
    "        \"Context: {context}\\n\"\n",
    "        \"Question: {question}\"\n",
    "    )\n",
    "    content_chain = (\n",
    "        {\"context\": content_retriever, \"question\": RunnablePassthrough()}\n",
    "        | PromptTemplate.from_template(content_template)\n",
    "        | LLM\n",
    "        | StrOutputParser()\n",
    "    )\n",
    "\n",
    "    table_template = (\n",
    "        \"Using the following tables, answer the question in a sentence:\\n\"\n",
    "        \"Tables: {context}\\n\"\n",
    "        \"Question: {question}\"\n",
    "    )\n",
    "    table_chain = (\n",
    "        {\"context\": tables_retriever, \"question\": RunnablePassthrough()}\n",
    "        | PromptTemplate.from_template(table_template)\n",
    "        | LLM\n",
    "        | StrOutputParser()\n",
    "    )\n",
    "\n",
    "    summarise_template = (\n",
    "        \"From the answers below, summarise the final answer \"\n",
    "        \"that contains information in a sentence:\\n\"\n",
    "        \"Answer 1: {content_answer}\\n\"\n",
    "        \"Answer 2: {table_answer}\\n\"\n",
    "        \"Final answer:\"\n",
    "    )\n",
    "    chain = (\n",
    "        {\"content_answer\": content_chain, \"table_answer\": table_chain}\n",
    "        | PromptTemplate.from_template(summarise_template)\n",
    "        | LLM\n",
    "        | StrOutputParser()\n",
    "    )\n",
    "    return chain"
   ]
  },
  {
   "cell_type": "code",
   "execution_count": null,
   "id": "d6822e73-d29f-497e-96c2-e105e328b610",
   "metadata": {},
   "outputs": [],
   "source": [
    "pdf_filepath = \"\""
   ]
  },
  {
   "cell_type": "code",
   "execution_count": null,
   "id": "1a25f0f9-d180-49cf-a3f5-74aeab56252b",
   "metadata": {},
   "outputs": [],
   "source": [
    "content_db = build_content_db(pdf_filepath)\n",
    "content_retriever = content_db.as_retriever()"
   ]
  },
  {
   "cell_type": "code",
   "execution_count": null,
   "id": "918dd2b4-9b7f-4b53-b412-e6e06491ef6c",
   "metadata": {},
   "outputs": [],
   "source": [
    "tables_db = build_tables_db(pdf_filepath)\n",
    "tables_retriever = tables_db.as_retriever()"
   ]
  },
  {
   "cell_type": "code",
   "execution_count": null,
   "id": "6172582e-5980-4037-8f54-5998019b7f7f",
   "metadata": {},
   "outputs": [],
   "source": [
    "chain = build_chain(content_retriever, tables_retriever)"
   ]
  },
  {
   "cell_type": "code",
   "execution_count": null,
   "id": "ae9edd2b-00a0-4ed4-9136-9038d04de966",
   "metadata": {},
   "outputs": [],
   "source": [
    "results = list()\n",
    "for metric in METRICS:\n",
    "    res = chain.invoke(f\"What is the portfolio {metric}?\")\n",
    "    results.append(res)"
   ]
  },
  {
   "cell_type": "code",
   "execution_count": null,
   "id": "a949535c-95ce-4790-966b-c53f66b3e6f8",
   "metadata": {},
   "outputs": [],
   "source": []
  }
 ],
 "metadata": {
  "kernelspec": {
   "display_name": "Python 3 (ipykernel)",
   "language": "python",
   "name": "python3"
  },
  "language_info": {
   "codemirror_mode": {
    "name": "ipython",
    "version": 3
   },
   "file_extension": ".py",
   "mimetype": "text/x-python",
   "name": "python",
   "nbconvert_exporter": "python",
   "pygments_lexer": "ipython3",
   "version": "3.11.9"
  }
 },
 "nbformat": 4,
 "nbformat_minor": 5
}
