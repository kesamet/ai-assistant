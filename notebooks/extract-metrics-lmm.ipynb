{
 "cells": [
  {
   "cell_type": "markdown",
   "id": "92653952-6ecb-413a-8d3a-4b1899174974",
   "metadata": {},
   "source": [
    "# Extract metrics with LMM"
   ]
  },
  {
   "cell_type": "code",
   "execution_count": null,
   "id": "c4c914bb-a3b7-4b48-a4a3-d44d3a57e1a5",
   "metadata": {},
   "outputs": [],
   "source": [
    "import fitz\n",
    "from dotenv import load_dotenv\n",
    "from loguru import logger\n",
    "from langchain_core.output_parsers import JsonOutputParser\n",
    "from langchain_core.messages import HumanMessage\n",
    "from langchain_google_genai import ChatGoogleGenerativeAI\n",
    "\n",
    "from src.general import sleep, encode_fitz_page\n",
    "\n",
    "load_dotenv()"
   ]
  },
  {
   "cell_type": "code",
   "execution_count": null,
   "id": "e7eafe23-324f-4343-a4e0-92c42faeed6e",
   "metadata": {},
   "outputs": [],
   "source": [
    "LLM = ChatGoogleGenerativeAI(model=\"gemini-1.5-flash\", temperature=0.0, max_retries=2)\n",
    "CHAIN = LLM | JsonOutputParser()\n",
    "\n",
    "METRICS = [\n",
    "    \"net property income\",\n",
    "    \"distribution per unit (DPU)\",\n",
    "    \"investment properties\",\n",
    "    \"total assets\",\n",
    "    \"total liabilities\",\n",
    "    \"total debts\",\n",
    "    \"total number of units\",\n",
    "    \"net asset value (NAV)\",\n",
    "    \"aggregate leverage\",\n",
    "    \"cost of debt\",\n",
    "    \"interest cover\",\n",
    "    \"average term to maturity / weighted average tenor of debt\",\n",
    "    \"weighted average lease expiry (WALE)\",\n",
    "]\n",
    "\n",
    "\n",
    "@sleep(2)\n",
    "def get_response(query: str, img_data: str) -> str:\n",
    "    message = HumanMessage(\n",
    "        content=[\n",
    "            {\"type\": \"text\", \"text\": query},\n",
    "            {\n",
    "                \"type\": \"image_url\",\n",
    "                \"image_url\": {\"url\": f\"data:image/jpeg;base64,{img_data}\"},\n",
    "            },\n",
    "        ],\n",
    "    )\n",
    "\n",
    "    try:\n",
    "        return CHAIN.invoke([message])\n",
    "    except Exception as e:\n",
    "        logger.error(e)\n",
    "\n",
    "\n",
    "def format_query(metric_names: list[str]) -> str:\n",
    "    query = \"\"\"From the given image, extract the latest value for the following metrics:\n",
    "{metric_names}\n",
    "\n",
    "If no information can be found for the metric, say \"UNK\". \\\n",
    "Output your response as a json like this:\n",
    "\n",
    "{{\n",
    "    \"net property income\": ...,\n",
    "    \"distribution per unit (DPU)\": ...,\n",
    "    ...\n",
    "}}\"\"\"\n",
    "    return query.format(metric_names=metric_names)\n",
    "\n",
    "\n",
    "def compute_metrics(doc: fitz.Document) -> dict[str, str]:\n",
    "    results = {m: \"UNK\" for m in METRICS}\n",
    "    for _, page in enumerate(doc):\n",
    "        metric_names = [m for m, v in results.items() if v == \"UNK\"]\n",
    "        if len(metric_names) == 0:\n",
    "            logger.info(\"All found\")\n",
    "            break\n",
    "\n",
    "        query = format_query(metric_names)\n",
    "        img_data = encode_fitz_page(page)\n",
    "        res = get_response(query, img_data)\n",
    "        results.update(res)\n",
    "\n",
    "        for k, v in res.items():\n",
    "            if v != \"UNK\":\n",
    "                logger.info(f\"  {k}: {v}\")\n",
    "    return results\n",
    "\n",
    "\n",
    "def load_pdf(pdf_filepath):\n",
    "    return fitz.open(pdf_filepath)"
   ]
  },
  {
   "cell_type": "code",
   "execution_count": null,
   "id": "fe0b92fe-3d73-4651-bd0f-1fe6a4fb4555",
   "metadata": {},
   "outputs": [],
   "source": [
    "pdf_filepath = \"\""
   ]
  },
  {
   "cell_type": "code",
   "execution_count": null,
   "id": "2c9aa934-ca55-4405-a072-adcd81f9c510",
   "metadata": {},
   "outputs": [],
   "source": [
    "doc = load_pdf(pdf_filepath)\n",
    "results = compute_metrics(doc)"
   ]
  },
  {
   "cell_type": "code",
   "execution_count": null,
   "id": "a0869502-b6d3-4da9-ab64-860c8f3fabe3",
   "metadata": {},
   "outputs": [],
   "source": []
  }
 ],
 "metadata": {
  "kernelspec": {
   "display_name": "Python 3 (ipykernel)",
   "language": "python",
   "name": "python3"
  },
  "language_info": {
   "codemirror_mode": {
    "name": "ipython",
    "version": 3
   },
   "file_extension": ".py",
   "mimetype": "text/x-python",
   "name": "python",
   "nbconvert_exporter": "python",
   "pygments_lexer": "ipython3",
   "version": "3.11.9"
  }
 },
 "nbformat": 4,
 "nbformat_minor": 5
}
